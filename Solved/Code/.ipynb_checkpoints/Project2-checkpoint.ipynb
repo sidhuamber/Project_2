{
 "cells": [
  {
   "cell_type": "code",
   "execution_count": 1,
   "metadata": {},
   "outputs": [],
   "source": [
    "import pandas as pd"
   ]
  },
  {
   "cell_type": "code",
   "execution_count": 2,
   "metadata": {},
   "outputs": [],
   "source": [
    "forbes_df = pd.read_csv('https://query.data.world/s/t46xrwtskjcedhgmz2sc2mj33bzog7')"
   ]
  },
  {
   "cell_type": "code",
   "execution_count": 3,
   "metadata": {},
   "outputs": [
    {
     "data": {
      "text/html": [
       "<div>\n",
       "<style scoped>\n",
       "    .dataframe tbody tr th:only-of-type {\n",
       "        vertical-align: middle;\n",
       "    }\n",
       "\n",
       "    .dataframe tbody tr th {\n",
       "        vertical-align: top;\n",
       "    }\n",
       "\n",
       "    .dataframe thead th {\n",
       "        text-align: right;\n",
       "    }\n",
       "</style>\n",
       "<table border=\"1\" class=\"dataframe\">\n",
       "  <thead>\n",
       "    <tr style=\"text-align: right;\">\n",
       "      <th></th>\n",
       "      <th>Company</th>\n",
       "      <th>Market Value</th>\n",
       "      <th>Revenue</th>\n",
       "      <th>Profits</th>\n",
       "      <th>Assets</th>\n",
       "      <th>Rank</th>\n",
       "      <th>Sector</th>\n",
       "      <th>Industry</th>\n",
       "      <th>Continent</th>\n",
       "      <th>Country</th>\n",
       "      <th>Headquarters</th>\n",
       "      <th>State</th>\n",
       "      <th>CEO</th>\n",
       "      <th>Forbes Webpage</th>\n",
       "      <th>Profits as % of Assets</th>\n",
       "      <th>Profits as % of Revenue</th>\n",
       "    </tr>\n",
       "  </thead>\n",
       "  <tbody>\n",
       "    <tr>\n",
       "      <td>0</td>\n",
       "      <td>ICBC</td>\n",
       "      <td>305.057</td>\n",
       "      <td>175.874</td>\n",
       "      <td>45.223</td>\n",
       "      <td>4034.482</td>\n",
       "      <td>1</td>\n",
       "      <td>Financials</td>\n",
       "      <td>Major Banks</td>\n",
       "      <td>Asia</td>\n",
       "      <td>China</td>\n",
       "      <td>China</td>\n",
       "      <td>NaN</td>\n",
       "      <td>Shu Gu</td>\n",
       "      <td>http://www.forbes.com/companies/icbc/</td>\n",
       "      <td>0.011209</td>\n",
       "      <td>0.257133</td>\n",
       "    </tr>\n",
       "    <tr>\n",
       "      <td>1</td>\n",
       "      <td>JPMorgan Chase</td>\n",
       "      <td>368.502</td>\n",
       "      <td>132.912</td>\n",
       "      <td>32.738</td>\n",
       "      <td>2737.188</td>\n",
       "      <td>2</td>\n",
       "      <td>Financials</td>\n",
       "      <td>Major Banks</td>\n",
       "      <td>North America</td>\n",
       "      <td>United States</td>\n",
       "      <td>New York</td>\n",
       "      <td>New York</td>\n",
       "      <td>Jamie Dimon</td>\n",
       "      <td>http://www.forbes.com/companies/jpmorgan-chase/</td>\n",
       "      <td>0.011960</td>\n",
       "      <td>0.246313</td>\n",
       "    </tr>\n",
       "    <tr>\n",
       "      <td>2</td>\n",
       "      <td>China Construction Bank</td>\n",
       "      <td>224.988</td>\n",
       "      <td>150.313</td>\n",
       "      <td>38.841</td>\n",
       "      <td>3382.422</td>\n",
       "      <td>3</td>\n",
       "      <td>Financials</td>\n",
       "      <td>Major Banks</td>\n",
       "      <td>Asia</td>\n",
       "      <td>China</td>\n",
       "      <td>China</td>\n",
       "      <td>NaN</td>\n",
       "      <td>Wang Zuji</td>\n",
       "      <td>http://www.forbes.com/companies/china-construc...</td>\n",
       "      <td>0.011483</td>\n",
       "      <td>0.258401</td>\n",
       "    </tr>\n",
       "    <tr>\n",
       "      <td>3</td>\n",
       "      <td>Agricultural Bank of China</td>\n",
       "      <td>197.045</td>\n",
       "      <td>137.456</td>\n",
       "      <td>30.894</td>\n",
       "      <td>3293.105</td>\n",
       "      <td>4</td>\n",
       "      <td>Financials</td>\n",
       "      <td>Regional Banks</td>\n",
       "      <td>Asia</td>\n",
       "      <td>China</td>\n",
       "      <td>China</td>\n",
       "      <td>NaN</td>\n",
       "      <td>Huan Zhao</td>\n",
       "      <td>http://www.forbes.com/companies/agricultural-b...</td>\n",
       "      <td>0.009381</td>\n",
       "      <td>0.224756</td>\n",
       "    </tr>\n",
       "    <tr>\n",
       "      <td>4</td>\n",
       "      <td>Bank of America</td>\n",
       "      <td>287.339</td>\n",
       "      <td>111.904</td>\n",
       "      <td>28.540</td>\n",
       "      <td>2377.164</td>\n",
       "      <td>5</td>\n",
       "      <td>Financials</td>\n",
       "      <td>Major Banks</td>\n",
       "      <td>North America</td>\n",
       "      <td>United States</td>\n",
       "      <td>North Carolina</td>\n",
       "      <td>North Carolina</td>\n",
       "      <td>Brian Moynihan</td>\n",
       "      <td>http://www.forbes.com/companies/bank-of-america/</td>\n",
       "      <td>0.012006</td>\n",
       "      <td>0.255040</td>\n",
       "    </tr>\n",
       "  </tbody>\n",
       "</table>\n",
       "</div>"
      ],
      "text/plain": [
       "                      Company  Market Value  Revenue  Profits    Assets  Rank  \\\n",
       "0                        ICBC       305.057  175.874   45.223  4034.482     1   \n",
       "1              JPMorgan Chase       368.502  132.912   32.738  2737.188     2   \n",
       "2     China Construction Bank       224.988  150.313   38.841  3382.422     3   \n",
       "3  Agricultural Bank of China       197.045  137.456   30.894  3293.105     4   \n",
       "4             Bank of America       287.339  111.904   28.540  2377.164     5   \n",
       "\n",
       "       Sector        Industry      Continent        Country    Headquarters  \\\n",
       "0  Financials     Major Banks           Asia          China           China   \n",
       "1  Financials     Major Banks  North America  United States        New York   \n",
       "2  Financials     Major Banks           Asia          China           China   \n",
       "3  Financials  Regional Banks           Asia          China           China   \n",
       "4  Financials     Major Banks  North America  United States  North Carolina   \n",
       "\n",
       "            State             CEO  \\\n",
       "0             NaN          Shu Gu   \n",
       "1        New York     Jamie Dimon   \n",
       "2             NaN       Wang Zuji   \n",
       "3             NaN       Huan Zhao   \n",
       "4  North Carolina  Brian Moynihan   \n",
       "\n",
       "                                      Forbes Webpage  Profits as % of Assets  \\\n",
       "0              http://www.forbes.com/companies/icbc/                0.011209   \n",
       "1    http://www.forbes.com/companies/jpmorgan-chase/                0.011960   \n",
       "2  http://www.forbes.com/companies/china-construc...                0.011483   \n",
       "3  http://www.forbes.com/companies/agricultural-b...                0.009381   \n",
       "4   http://www.forbes.com/companies/bank-of-america/                0.012006   \n",
       "\n",
       "   Profits as % of Revenue  \n",
       "0                 0.257133  \n",
       "1                 0.246313  \n",
       "2                 0.258401  \n",
       "3                 0.224756  \n",
       "4                 0.255040  "
      ]
     },
     "execution_count": 3,
     "metadata": {},
     "output_type": "execute_result"
    }
   ],
   "source": [
    "forbes_df.head()"
   ]
  },
  {
   "cell_type": "code",
   "execution_count": 4,
   "metadata": {},
   "outputs": [],
   "source": [
    "url = 'https://en.wikipedia.org/wiki/ISO_3166-1_alpha-2'"
   ]
  },
  {
   "cell_type": "code",
   "execution_count": 5,
   "metadata": {},
   "outputs": [],
   "source": [
    "# The 3rd element in the list of DFs is the table that is required for the ISO Code\n",
    "wiki_df = pd.read_html(url)[2]"
   ]
  },
  {
   "cell_type": "code",
   "execution_count": 6,
   "metadata": {},
   "outputs": [],
   "source": [
    "# Dropping unwanted columns\n",
    "wiki_df = wiki_df[['Country name (using title case)','Code']]"
   ]
  },
  {
   "cell_type": "code",
   "execution_count": 7,
   "metadata": {},
   "outputs": [],
   "source": [
    "# Change column names\n",
    "wiki_df.columns = ['Country','Code']"
   ]
  },
  {
   "cell_type": "code",
   "execution_count": 8,
   "metadata": {},
   "outputs": [
    {
     "ename": "NameError",
     "evalue": "name 'df' is not defined",
     "output_type": "error",
     "traceback": [
      "\u001b[1;31m---------------------------------------------------------------------------\u001b[0m",
      "\u001b[1;31mNameError\u001b[0m                                 Traceback (most recent call last)",
      "\u001b[1;32m<ipython-input-8-a5a37661332c>\u001b[0m in \u001b[0;36m<module>\u001b[1;34m\u001b[0m\n\u001b[0;32m      1\u001b[0m \u001b[1;31m# Replacing values of some countries to match the Oscar DF\u001b[0m\u001b[1;33m\u001b[0m\u001b[1;33m\u001b[0m\u001b[1;33m\u001b[0m\u001b[0m\n\u001b[1;32m----> 2\u001b[1;33m \u001b[0mwiki_df\u001b[0m\u001b[1;33m.\u001b[0m\u001b[0mloc\u001b[0m\u001b[1;33m[\u001b[0m\u001b[0mdf\u001b[0m\u001b[1;33m.\u001b[0m\u001b[0mcountry\u001b[0m\u001b[1;33m.\u001b[0m\u001b[0mstr\u001b[0m\u001b[1;33m.\u001b[0m\u001b[0mcontains\u001b[0m\u001b[1;33m(\u001b[0m\u001b[1;34m'United States'\u001b[0m\u001b[1;33m)\u001b[0m\u001b[1;33m==\u001b[0m\u001b[1;32mTrue\u001b[0m\u001b[1;33m,\u001b[0m\u001b[1;34m'Country'\u001b[0m\u001b[1;33m]\u001b[0m \u001b[1;33m=\u001b[0m \u001b[1;34m'United States'\u001b[0m\u001b[1;33m\u001b[0m\u001b[1;33m\u001b[0m\u001b[0m\n\u001b[0m\u001b[0;32m      3\u001b[0m \u001b[0mwiki_df\u001b[0m\u001b[1;33m.\u001b[0m\u001b[0mloc\u001b[0m\u001b[1;33m[\u001b[0m\u001b[0mdf\u001b[0m\u001b[1;33m.\u001b[0m\u001b[0mcountry\u001b[0m\u001b[1;33m.\u001b[0m\u001b[0mstr\u001b[0m\u001b[1;33m.\u001b[0m\u001b[0mcontains\u001b[0m\u001b[1;33m(\u001b[0m\u001b[1;34m'Korea, Republic of'\u001b[0m\u001b[1;33m)\u001b[0m\u001b[1;33m==\u001b[0m\u001b[1;32mTrue\u001b[0m\u001b[1;33m,\u001b[0m\u001b[1;34m'Country'\u001b[0m\u001b[1;33m]\u001b[0m \u001b[1;33m=\u001b[0m \u001b[1;34m'South Korea'\u001b[0m\u001b[1;33m\u001b[0m\u001b[1;33m\u001b[0m\u001b[0m\n\u001b[0;32m      4\u001b[0m \u001b[0mwiki_df\u001b[0m\u001b[1;33m.\u001b[0m\u001b[0mloc\u001b[0m\u001b[1;33m[\u001b[0m\u001b[0mdf\u001b[0m\u001b[1;33m.\u001b[0m\u001b[0mcountry\u001b[0m\u001b[1;33m.\u001b[0m\u001b[0mstr\u001b[0m\u001b[1;33m.\u001b[0m\u001b[0mcontains\u001b[0m\u001b[1;33m(\u001b[0m\u001b[1;34m'Russia'\u001b[0m\u001b[1;33m)\u001b[0m\u001b[1;33m==\u001b[0m\u001b[1;32mTrue\u001b[0m\u001b[1;33m,\u001b[0m\u001b[1;34m'Country'\u001b[0m\u001b[1;33m]\u001b[0m \u001b[1;33m=\u001b[0m \u001b[1;34m'Russia'\u001b[0m\u001b[1;33m\u001b[0m\u001b[1;33m\u001b[0m\u001b[0m\n\u001b[0;32m      5\u001b[0m \u001b[0mwiki_df\u001b[0m\u001b[1;33m.\u001b[0m\u001b[0mloc\u001b[0m\u001b[1;33m[\u001b[0m\u001b[0mdf\u001b[0m\u001b[1;33m.\u001b[0m\u001b[0mcountry\u001b[0m\u001b[1;33m.\u001b[0m\u001b[0mstr\u001b[0m\u001b[1;33m.\u001b[0m\u001b[0mcontains\u001b[0m\u001b[1;33m(\u001b[0m\u001b[1;34m'United Kingdom'\u001b[0m\u001b[1;33m)\u001b[0m\u001b[1;33m==\u001b[0m\u001b[1;32mTrue\u001b[0m\u001b[1;33m,\u001b[0m\u001b[1;34m'Country'\u001b[0m\u001b[1;33m]\u001b[0m \u001b[1;33m=\u001b[0m \u001b[1;34m'United Kingdom'\u001b[0m\u001b[1;33m\u001b[0m\u001b[1;33m\u001b[0m\u001b[0m\n",
      "\u001b[1;31mNameError\u001b[0m: name 'df' is not defined"
     ]
    }
   ],
   "source": [
    "# Replacing values of some countries to match the Oscar DF\n",
    "wiki_df.loc[df.country.str.contains('United States')==True,'Country'] = 'United States'\n",
    "wiki_df.loc[df.country.str.contains('Korea, Republic of')==True,'Country'] = 'South Korea'\n",
    "wiki_df.loc[df.country.str.contains('Russia')==True,'Country'] = 'Russia'\n",
    "wiki_df.loc[df.country.str.contains('United Kingdom')==True,'Country'] = 'United Kingdom'\n",
    "wiki_df.loc[df.country.str.contains('Taiwan, Province of China')==True,'Country'] = 'Taiwan'\n",
    "wiki_df.loc[df.country.str.contains('Czechia')==True,'Country'] = 'Czech Republic'\n",
    "wiki_df.loc[df.country.str.contains('Viet Nam')==True,'Country'] = 'Vietnam'"
   ]
  },
  {
   "cell_type": "code",
   "execution_count": 9,
   "metadata": {},
   "outputs": [
    {
     "data": {
      "text/plain": [
       "array(['Andorra', 'United Arab Emirates', 'Afghanistan',\n",
       "       'Antigua and Barbuda', 'Anguilla', 'Albania', 'Armenia', 'Angola',\n",
       "       'Antarctica', 'Argentina', 'American Samoa', 'Austria',\n",
       "       'Australia', 'Aruba', 'Åland Islands', 'Azerbaijan',\n",
       "       'Bosnia and Herzegovina', 'Barbados', 'Bangladesh', 'Belgium',\n",
       "       'Burkina Faso', 'Bulgaria', 'Bahrain', 'Burundi', 'Benin',\n",
       "       'Saint Barthélemy', 'Bermuda', 'Brunei Darussalam',\n",
       "       'Bolivia (Plurinational State of)',\n",
       "       'Bonaire, Sint Eustatius and Saba', 'Brazil', 'Bahamas', 'Bhutan',\n",
       "       'Bouvet Island', 'Botswana', 'Belarus', 'Belize', 'Canada',\n",
       "       'Cocos (Keeling) Islands', 'Congo, Democratic Republic of the',\n",
       "       'Central African Republic', 'Congo', 'Switzerland',\n",
       "       \"Côte d'Ivoire\", 'Cook Islands', 'Chile', 'Cameroon', 'China',\n",
       "       'Colombia', 'Costa Rica', 'Cuba', 'Cabo Verde', 'Curaçao',\n",
       "       'Christmas Island', 'Cyprus', 'Czechia', 'Germany', 'Djibouti',\n",
       "       'Denmark', 'Dominica', 'Dominican Republic', 'Algeria', 'Ecuador',\n",
       "       'Estonia', 'Egypt', 'Western Sahara', 'Eritrea', 'Spain',\n",
       "       'Ethiopia', 'Finland', 'Fiji', 'Falkland Islands (Malvinas)',\n",
       "       'Micronesia (Federated States of)', 'Faroe Islands', 'France',\n",
       "       'Gabon', 'United Kingdom of Great Britain and Northern Ireland',\n",
       "       'Grenada', 'Georgia', 'French Guiana', 'Guernsey', 'Ghana',\n",
       "       'Gibraltar', 'Greenland', 'Gambia', 'Guinea', 'Guadeloupe',\n",
       "       'Equatorial Guinea', 'Greece',\n",
       "       'South Georgia and the South Sandwich Islands', 'Guatemala',\n",
       "       'Guam', 'Guinea-Bissau', 'Guyana', 'Hong Kong',\n",
       "       'Heard Island and McDonald Islands', 'Honduras', 'Croatia',\n",
       "       'Haiti', 'Hungary', 'Indonesia', 'Ireland', 'Israel',\n",
       "       'Isle of Man', 'India', 'British Indian Ocean Territory', 'Iraq',\n",
       "       'Iran (Islamic Republic of)', 'Iceland', 'Italy', 'Jersey',\n",
       "       'Jamaica', 'Jordan', 'Japan', 'Kenya', 'Kyrgyzstan', 'Cambodia',\n",
       "       'Kiribati', 'Comoros', 'Saint Kitts and Nevis',\n",
       "       \"Korea (Democratic People's Republic of)\", 'Korea, Republic of',\n",
       "       'Kuwait', 'Cayman Islands', 'Kazakhstan',\n",
       "       \"Lao People's Democratic Republic\", 'Lebanon', 'Saint Lucia',\n",
       "       'Liechtenstein', 'Sri Lanka', 'Liberia', 'Lesotho', 'Lithuania',\n",
       "       'Luxembourg', 'Latvia', 'Libya', 'Morocco', 'Monaco',\n",
       "       'Moldova, Republic of', 'Montenegro', 'Saint Martin (French part)',\n",
       "       'Madagascar', 'Marshall Islands', 'North Macedonia', 'Mali',\n",
       "       'Myanmar', 'Mongolia', 'Macao', 'Northern Mariana Islands',\n",
       "       'Martinique', 'Mauritania', 'Montserrat', 'Malta', 'Mauritius',\n",
       "       'Maldives', 'Malawi', 'Mexico', 'Malaysia', 'Mozambique',\n",
       "       'Namibia', 'New Caledonia', 'Niger', 'Norfolk Island', 'Nigeria',\n",
       "       'Nicaragua', 'Netherlands', 'Norway', 'Nepal', 'Nauru', 'Niue',\n",
       "       'New Zealand', 'Oman', 'Panama', 'Peru', 'French Polynesia',\n",
       "       'Papua New Guinea', 'Philippines', 'Pakistan', 'Poland',\n",
       "       'Saint Pierre and Miquelon', 'Pitcairn', 'Puerto Rico',\n",
       "       'Palestine, State of', 'Portugal', 'Palau', 'Paraguay', 'Qatar',\n",
       "       'Réunion', 'Romania', 'Serbia', 'Russian Federation', 'Rwanda',\n",
       "       'Saudi Arabia', 'Solomon Islands', 'Seychelles', 'Sudan', 'Sweden',\n",
       "       'Singapore', 'Saint Helena, Ascension and Tristan da Cunha',\n",
       "       'Slovenia', 'Svalbard and Jan Mayen', 'Slovakia', 'Sierra Leone',\n",
       "       'San Marino', 'Senegal', 'Somalia', 'Suriname', 'South Sudan',\n",
       "       'Sao Tome and Principe', 'El Salvador',\n",
       "       'Sint Maarten (Dutch part)', 'Syrian Arab Republic', 'Eswatini',\n",
       "       'Turks and Caicos Islands', 'Chad', 'French Southern Territories',\n",
       "       'Togo', 'Thailand', 'Tajikistan', 'Tokelau', 'Timor-Leste',\n",
       "       'Turkmenistan', 'Tunisia', 'Tonga', 'Turkey',\n",
       "       'Trinidad and Tobago', 'Tuvalu', 'Taiwan, Province of China',\n",
       "       'Tanzania, United Republic of', 'Ukraine', 'Uganda',\n",
       "       'United States Minor Outlying Islands', 'United States of America',\n",
       "       'Uruguay', 'Uzbekistan', 'Holy See',\n",
       "       'Saint Vincent and the Grenadines',\n",
       "       'Venezuela (Bolivarian Republic of)', 'Virgin Islands (British)',\n",
       "       'Virgin Islands (U.S.)', 'Viet Nam', 'Vanuatu',\n",
       "       'Wallis and Futuna', 'Samoa', 'Yemen', 'Mayotte', 'South Africa',\n",
       "       'Zambia', 'Zimbabwe'], dtype=object)"
      ]
     },
     "execution_count": 9,
     "metadata": {},
     "output_type": "execute_result"
    }
   ],
   "source": [
    "wiki_df['Country'].unique()"
   ]
  },
  {
   "cell_type": "code",
   "execution_count": 10,
   "metadata": {},
   "outputs": [],
   "source": [
    "wip_df = forbes_df.merge(wiki_df,how='left',on=\"Country\")"
   ]
  },
  {
   "cell_type": "code",
   "execution_count": 11,
   "metadata": {},
   "outputs": [],
   "source": [
    "wip_df.to_excel('WIP.xlsx')"
   ]
  },
  {
   "cell_type": "code",
   "execution_count": null,
   "metadata": {},
   "outputs": [],
   "source": []
  }
 ],
 "metadata": {
  "kernelspec": {
   "display_name": "Python 3",
   "language": "python",
   "name": "python3"
  },
  "language_info": {
   "codemirror_mode": {
    "name": "ipython",
    "version": 3
   },
   "file_extension": ".py",
   "mimetype": "text/x-python",
   "name": "python",
   "nbconvert_exporter": "python",
   "pygments_lexer": "ipython3",
   "version": "3.7.4"
  }
 },
 "nbformat": 4,
 "nbformat_minor": 4
}
